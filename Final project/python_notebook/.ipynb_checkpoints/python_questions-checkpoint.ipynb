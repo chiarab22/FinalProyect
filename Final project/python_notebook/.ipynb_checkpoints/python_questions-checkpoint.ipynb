{
 "cells": [
  {
   "cell_type": "code",
   "execution_count": 1,
   "id": "c38dd53d",
   "metadata": {},
   "outputs": [],
   "source": [
    "import pandas as pd\n",
    "import matplotlib.pyplot as plt\n",
    "import seaborn as sns"
   ]
  },
  {
   "cell_type": "code",
   "execution_count": 2,
   "id": "b98cacba",
   "metadata": {},
   "outputs": [
    {
     "name": "stdout",
     "output_type": "stream",
     "text": [
      "           id  bedrooms  bathrooms  sqft_living  sqft_lot  floors  waterfront  \\\n",
      "0  7129300520         3       1.00         1180      5650     1.0           0   \n",
      "1  6414100192         3       2.25         2570      7242     2.0           0   \n",
      "2  5631500400         2       1.00          770     10000     1.0           0   \n",
      "3  2487200875         4       3.00         1960      5000     1.0           0   \n",
      "4  1954400510         3       2.00         1680      8080     1.0           0   \n",
      "5  7237550310         4       4.50         5420    101930     1.0           0   \n",
      "6  1321400060         3       2.25         1715      6819     2.0           0   \n",
      "7  2008000270         3       1.50         1060      9711     1.0           0   \n",
      "8  2414600126         3       1.00         1780      7470     1.0           0   \n",
      "9  3793500160         3       2.50         1890      6560     2.0           0   \n",
      "\n",
      "   view  condition  grade  sqft_above  sqft_basement  yr_built  yr_renovated  \\\n",
      "0     0          3      7        1180              0      1955             0   \n",
      "1     0          3      7        2170            400      1951          1991   \n",
      "2     0          3      6         770              0      1933             0   \n",
      "3     0          5      7        1050            910      1965             0   \n",
      "4     0          3      8        1680              0      1987             0   \n",
      "5     0          3     11        3890           1530      2001             0   \n",
      "6     0          3      7        1715              0      1995             0   \n",
      "7     0          3      7        1060              0      1963             0   \n",
      "8     0          3      7        1050            730      1960             0   \n",
      "9     0          3      7        1890              0      2003             0   \n",
      "\n",
      "   zipcode      lat     long  sqft_living15  sqft_lot15    price  \n",
      "0    98178  47.5112 -122.257           1340        5650   221900  \n",
      "1    98125  47.7210 -122.319           1690        7639   538000  \n",
      "2    98028  47.7379 -122.233           2720        8062   180000  \n",
      "3    98136  47.5208 -122.393           1360        5000   604000  \n",
      "4    98074  47.6168 -122.045           1800        7503   510000  \n",
      "5    98053  47.6561 -122.005           4760      101930  1230000  \n",
      "6    98003  47.3097 -122.327           2238        6819   257500  \n",
      "7    98198  47.4095 -122.315           1650        9711   291850  \n",
      "8    98146  47.5123 -122.337           1780        8113   229500  \n",
      "9    98038  47.3684 -122.031           2390        7570   323000  \n"
     ]
    }
   ],
   "source": [
    "# 1.  Select all the data from table `house_price_data` to check if the data was imported correctly.\n",
    "\n",
    "filename = '../data/regression_data.xls'\n",
    "df = pd.read_excel(filename, header=0)\n",
    "\n",
    "#2.  Drop the column `date` from the data frame, as we would not use it in the analysis. \n",
    "\n",
    "df.drop(labels='date', axis=1, inplace= True)\n",
    "\n",
    "# Select all the data from the table to verify if the command worked. Limit your returned results to 10.\n",
    "\n",
    "print (df.head(10))"
   ]
  },
  {
   "cell_type": "code",
   "execution_count": 3,
   "id": "e5c8b37f",
   "metadata": {},
   "outputs": [
    {
     "data": {
      "text/plain": [
       "21597"
      ]
     },
     "execution_count": 3,
     "metadata": {},
     "output_type": "execute_result"
    }
   ],
   "source": [
    "# How many rows of data do you have?\n",
    "\n",
    "df.shape[0]\n"
   ]
  },
  {
   "cell_type": "code",
   "execution_count": 4,
   "id": "15ef451a",
   "metadata": {
    "scrolled": true
   },
   "outputs": [
    {
     "name": "stdout",
     "output_type": "stream",
     "text": [
      "<class 'pandas.core.frame.DataFrame'>\n",
      "RangeIndex: 21597 entries, 0 to 21596\n",
      "Data columns (total 20 columns):\n",
      " #   Column         Non-Null Count  Dtype  \n",
      "---  ------         --------------  -----  \n",
      " 0   id             21597 non-null  int64  \n",
      " 1   bedrooms       21597 non-null  int64  \n",
      " 2   bathrooms      21597 non-null  float64\n",
      " 3   sqft_living    21597 non-null  int64  \n",
      " 4   sqft_lot       21597 non-null  int64  \n",
      " 5   floors         21597 non-null  float64\n",
      " 6   waterfront     21597 non-null  int64  \n",
      " 7   view           21597 non-null  int64  \n",
      " 8   condition      21597 non-null  int64  \n",
      " 9   grade          21597 non-null  int64  \n",
      " 10  sqft_above     21597 non-null  int64  \n",
      " 11  sqft_basement  21597 non-null  int64  \n",
      " 12  yr_built       21597 non-null  int64  \n",
      " 13  yr_renovated   21597 non-null  int64  \n",
      " 14  zipcode        21597 non-null  int64  \n",
      " 15  lat            21597 non-null  float64\n",
      " 16  long           21597 non-null  float64\n",
      " 17  sqft_living15  21597 non-null  int64  \n",
      " 18  sqft_lot15     21597 non-null  int64  \n",
      " 19  price          21597 non-null  int64  \n",
      "dtypes: float64(4), int64(16)\n",
      "memory usage: 3.3 MB\n"
     ]
    }
   ],
   "source": [
    "df.info()"
   ]
  },
  {
   "cell_type": "code",
   "execution_count": 5,
   "id": "4ad17b6f",
   "metadata": {},
   "outputs": [
    {
     "name": "stdout",
     "output_type": "stream",
     "text": [
      "Unique values in bedrooms: 12\n"
     ]
    }
   ],
   "source": [
    "# 4.1. What are the unique values in the column `bedrooms`?\n",
    "\n",
    "bedrooms=df.bedrooms.unique()\n",
    "bedrooms\n",
    "print('Unique values in bedrooms: ' + str(bedrooms.size))"
   ]
  },
  {
   "cell_type": "code",
   "execution_count": 6,
   "id": "d796e1ed",
   "metadata": {},
   "outputs": [
    {
     "name": "stdout",
     "output_type": "stream",
     "text": [
      "Unique values in bathrooms: 29\n"
     ]
    }
   ],
   "source": [
    "# 4.2. What are the unique values in the column `bathrooms`?\n",
    "\n",
    "bathrooms=df.bathrooms.unique()\n",
    "bathrooms\n",
    "print('Unique values in bathrooms: ' + str(bathrooms.size))"
   ]
  },
  {
   "cell_type": "code",
   "execution_count": 7,
   "id": "c40a402e",
   "metadata": {},
   "outputs": [
    {
     "name": "stdout",
     "output_type": "stream",
     "text": [
      "Unique values in floors: 6\n"
     ]
    }
   ],
   "source": [
    "# 4.3. What are the unique values in the column `floors`?\n",
    "\n",
    "floors=df.floors.unique()\n",
    "floors\n",
    "print('Unique values in floors: ' + str(floors.size))\n"
   ]
  },
  {
   "cell_type": "code",
   "execution_count": 8,
   "id": "62d4ec35",
   "metadata": {},
   "outputs": [
    {
     "name": "stdout",
     "output_type": "stream",
     "text": [
      "Unique values in condition: 5\n"
     ]
    }
   ],
   "source": [
    "# 4.4. What are the unique values in the column `condition`?\n",
    "\n",
    "condition=df.condition.unique()\n",
    "condition\n",
    "print('Unique values in condition: ' + str(condition.size))"
   ]
  },
  {
   "cell_type": "code",
   "execution_count": 9,
   "id": "895f8583",
   "metadata": {},
   "outputs": [
    {
     "name": "stdout",
     "output_type": "stream",
     "text": [
      "Unique values in grade: 11\n"
     ]
    }
   ],
   "source": [
    "# 4.5. What are the unique values in the column `grade`?\n",
    "\n",
    "grade=df.grade.unique()\n",
    "grade\n",
    "print('Unique values in grade: ' + str(grade.size))"
   ]
  },
  {
   "cell_type": "code",
   "execution_count": 10,
   "id": "fa68f216",
   "metadata": {},
   "outputs": [
    {
     "data": {
      "text/html": [
       "<div>\n",
       "<style scoped>\n",
       "    .dataframe tbody tr th:only-of-type {\n",
       "        vertical-align: middle;\n",
       "    }\n",
       "\n",
       "    .dataframe tbody tr th {\n",
       "        vertical-align: top;\n",
       "    }\n",
       "\n",
       "    .dataframe thead th {\n",
       "        text-align: right;\n",
       "    }\n",
       "</style>\n",
       "<table border=\"1\" class=\"dataframe\">\n",
       "  <thead>\n",
       "    <tr style=\"text-align: right;\">\n",
       "      <th></th>\n",
       "      <th>index</th>\n",
       "      <th>id</th>\n",
       "    </tr>\n",
       "  </thead>\n",
       "  <tbody>\n",
       "    <tr>\n",
       "      <th>0</th>\n",
       "      <td>7245</td>\n",
       "      <td>6762700020</td>\n",
       "    </tr>\n",
       "    <tr>\n",
       "      <th>1</th>\n",
       "      <td>3910</td>\n",
       "      <td>9808700762</td>\n",
       "    </tr>\n",
       "    <tr>\n",
       "      <th>2</th>\n",
       "      <td>9245</td>\n",
       "      <td>9208900037</td>\n",
       "    </tr>\n",
       "    <tr>\n",
       "      <th>3</th>\n",
       "      <td>4407</td>\n",
       "      <td>2470100110</td>\n",
       "    </tr>\n",
       "    <tr>\n",
       "      <th>4</th>\n",
       "      <td>1446</td>\n",
       "      <td>8907500070</td>\n",
       "    </tr>\n",
       "    <tr>\n",
       "      <th>5</th>\n",
       "      <td>1313</td>\n",
       "      <td>7558700030</td>\n",
       "    </tr>\n",
       "    <tr>\n",
       "      <th>6</th>\n",
       "      <td>1162</td>\n",
       "      <td>1247600105</td>\n",
       "    </tr>\n",
       "    <tr>\n",
       "      <th>7</th>\n",
       "      <td>8085</td>\n",
       "      <td>1924059029</td>\n",
       "    </tr>\n",
       "    <tr>\n",
       "      <th>8</th>\n",
       "      <td>2624</td>\n",
       "      <td>7738500731</td>\n",
       "    </tr>\n",
       "    <tr>\n",
       "      <th>9</th>\n",
       "      <td>8629</td>\n",
       "      <td>3835500195</td>\n",
       "    </tr>\n",
       "  </tbody>\n",
       "</table>\n",
       "</div>"
      ],
      "text/plain": [
       "   index          id\n",
       "0   7245  6762700020\n",
       "1   3910  9808700762\n",
       "2   9245  9208900037\n",
       "3   4407  2470100110\n",
       "4   1446  8907500070\n",
       "5   1313  7558700030\n",
       "6   1162  1247600105\n",
       "7   8085  1924059029\n",
       "8   2624  7738500731\n",
       "9   8629  3835500195"
      ]
     },
     "execution_count": 10,
     "metadata": {},
     "output_type": "execute_result"
    }
   ],
   "source": [
    "# 5.  Arrange the data in decreasing order by the price of the house. Return only the IDs of the top 10 \n",
    "# most expensive houses in your data.\n",
    "\n",
    "dfordenado = df.sort_values(by=\"price\", ascending=False) #5\n",
    "\n",
    "dfordenado.head(10).id.reset_index()"
   ]
  },
  {
   "cell_type": "code",
   "execution_count": 11,
   "id": "eddb92a7",
   "metadata": {},
   "outputs": [
    {
     "name": "stdout",
     "output_type": "stream",
     "text": [
      "The average price is: \n"
     ]
    },
    {
     "data": {
      "text/plain": [
       "540296.5735055795"
      ]
     },
     "execution_count": 11,
     "metadata": {},
     "output_type": "execute_result"
    }
   ],
   "source": [
    "# 6.  What is the average price of all the properties in your data?\n",
    "\n",
    "print('The average price is: ')\n",
    "df[\"price\"].mean()"
   ]
  },
  {
   "cell_type": "code",
   "execution_count": 12,
   "id": "9d4f2641",
   "metadata": {},
   "outputs": [
    {
     "data": {
      "text/html": [
       "<div>\n",
       "<style scoped>\n",
       "    .dataframe tbody tr th:only-of-type {\n",
       "        vertical-align: middle;\n",
       "    }\n",
       "\n",
       "    .dataframe tbody tr th {\n",
       "        vertical-align: top;\n",
       "    }\n",
       "\n",
       "    .dataframe thead th {\n",
       "        text-align: right;\n",
       "    }\n",
       "</style>\n",
       "<table border=\"1\" class=\"dataframe\">\n",
       "  <thead>\n",
       "    <tr style=\"text-align: right;\">\n",
       "      <th></th>\n",
       "      <th>bedrooms</th>\n",
       "      <th>Average Price</th>\n",
       "    </tr>\n",
       "  </thead>\n",
       "  <tbody>\n",
       "    <tr>\n",
       "      <th>0</th>\n",
       "      <td>1</td>\n",
       "      <td>3.182395e+05</td>\n",
       "    </tr>\n",
       "    <tr>\n",
       "      <th>1</th>\n",
       "      <td>2</td>\n",
       "      <td>4.013877e+05</td>\n",
       "    </tr>\n",
       "    <tr>\n",
       "      <th>2</th>\n",
       "      <td>3</td>\n",
       "      <td>4.662766e+05</td>\n",
       "    </tr>\n",
       "    <tr>\n",
       "      <th>3</th>\n",
       "      <td>4</td>\n",
       "      <td>6.355647e+05</td>\n",
       "    </tr>\n",
       "    <tr>\n",
       "      <th>4</th>\n",
       "      <td>5</td>\n",
       "      <td>7.868741e+05</td>\n",
       "    </tr>\n",
       "    <tr>\n",
       "      <th>5</th>\n",
       "      <td>6</td>\n",
       "      <td>8.258535e+05</td>\n",
       "    </tr>\n",
       "    <tr>\n",
       "      <th>6</th>\n",
       "      <td>7</td>\n",
       "      <td>9.514478e+05</td>\n",
       "    </tr>\n",
       "    <tr>\n",
       "      <th>7</th>\n",
       "      <td>8</td>\n",
       "      <td>1.105077e+06</td>\n",
       "    </tr>\n",
       "    <tr>\n",
       "      <th>8</th>\n",
       "      <td>9</td>\n",
       "      <td>8.939998e+05</td>\n",
       "    </tr>\n",
       "    <tr>\n",
       "      <th>9</th>\n",
       "      <td>10</td>\n",
       "      <td>8.200000e+05</td>\n",
       "    </tr>\n",
       "    <tr>\n",
       "      <th>10</th>\n",
       "      <td>11</td>\n",
       "      <td>5.200000e+05</td>\n",
       "    </tr>\n",
       "    <tr>\n",
       "      <th>11</th>\n",
       "      <td>33</td>\n",
       "      <td>6.400000e+05</td>\n",
       "    </tr>\n",
       "  </tbody>\n",
       "</table>\n",
       "</div>"
      ],
      "text/plain": [
       "    bedrooms  Average Price\n",
       "0          1   3.182395e+05\n",
       "1          2   4.013877e+05\n",
       "2          3   4.662766e+05\n",
       "3          4   6.355647e+05\n",
       "4          5   7.868741e+05\n",
       "5          6   8.258535e+05\n",
       "6          7   9.514478e+05\n",
       "7          8   1.105077e+06\n",
       "8          9   8.939998e+05\n",
       "9         10   8.200000e+05\n",
       "10        11   5.200000e+05\n",
       "11        33   6.400000e+05"
      ]
     },
     "execution_count": 12,
     "metadata": {},
     "output_type": "execute_result"
    }
   ],
   "source": [
    "# 7.1. What is the average price of the houses grouped by bedrooms? The returned result should have only two columns:\n",
    "# `Bedrooms` and `Average price`. \n",
    "\n",
    "be=df.groupby(['bedrooms'])\n",
    "be[\"price\"].mean().to_frame(\"Average Price\").reset_index()"
   ]
  },
  {
   "cell_type": "code",
   "execution_count": 13,
   "id": "7812b700",
   "metadata": {},
   "outputs": [
    {
     "data": {
      "text/html": [
       "<div>\n",
       "<style scoped>\n",
       "    .dataframe tbody tr th:only-of-type {\n",
       "        vertical-align: middle;\n",
       "    }\n",
       "\n",
       "    .dataframe tbody tr th {\n",
       "        vertical-align: top;\n",
       "    }\n",
       "\n",
       "    .dataframe thead th {\n",
       "        text-align: right;\n",
       "    }\n",
       "</style>\n",
       "<table border=\"1\" class=\"dataframe\">\n",
       "  <thead>\n",
       "    <tr style=\"text-align: right;\">\n",
       "      <th></th>\n",
       "      <th>bedrooms</th>\n",
       "      <th>Average sqft_living</th>\n",
       "    </tr>\n",
       "  </thead>\n",
       "  <tbody>\n",
       "    <tr>\n",
       "      <th>0</th>\n",
       "      <td>1</td>\n",
       "      <td>888.153061</td>\n",
       "    </tr>\n",
       "    <tr>\n",
       "      <th>1</th>\n",
       "      <td>2</td>\n",
       "      <td>1239.752899</td>\n",
       "    </tr>\n",
       "    <tr>\n",
       "      <th>2</th>\n",
       "      <td>3</td>\n",
       "      <td>1805.837235</td>\n",
       "    </tr>\n",
       "    <tr>\n",
       "      <th>3</th>\n",
       "      <td>4</td>\n",
       "      <td>2554.649666</td>\n",
       "    </tr>\n",
       "    <tr>\n",
       "      <th>4</th>\n",
       "      <td>5</td>\n",
       "      <td>3047.545284</td>\n",
       "    </tr>\n",
       "    <tr>\n",
       "      <th>5</th>\n",
       "      <td>6</td>\n",
       "      <td>3284.341912</td>\n",
       "    </tr>\n",
       "    <tr>\n",
       "      <th>6</th>\n",
       "      <td>7</td>\n",
       "      <td>3974.210526</td>\n",
       "    </tr>\n",
       "    <tr>\n",
       "      <th>7</th>\n",
       "      <td>8</td>\n",
       "      <td>3800.000000</td>\n",
       "    </tr>\n",
       "    <tr>\n",
       "      <th>8</th>\n",
       "      <td>9</td>\n",
       "      <td>3775.000000</td>\n",
       "    </tr>\n",
       "    <tr>\n",
       "      <th>9</th>\n",
       "      <td>10</td>\n",
       "      <td>3706.666667</td>\n",
       "    </tr>\n",
       "    <tr>\n",
       "      <th>10</th>\n",
       "      <td>11</td>\n",
       "      <td>3000.000000</td>\n",
       "    </tr>\n",
       "    <tr>\n",
       "      <th>11</th>\n",
       "      <td>33</td>\n",
       "      <td>1620.000000</td>\n",
       "    </tr>\n",
       "  </tbody>\n",
       "</table>\n",
       "</div>"
      ],
      "text/plain": [
       "    bedrooms  Average sqft_living\n",
       "0          1           888.153061\n",
       "1          2          1239.752899\n",
       "2          3          1805.837235\n",
       "3          4          2554.649666\n",
       "4          5          3047.545284\n",
       "5          6          3284.341912\n",
       "6          7          3974.210526\n",
       "7          8          3800.000000\n",
       "8          9          3775.000000\n",
       "9         10          3706.666667\n",
       "10        11          3000.000000\n",
       "11        33          1620.000000"
      ]
     },
     "execution_count": 13,
     "metadata": {},
     "output_type": "execute_result"
    }
   ],
   "source": [
    "# 7.2. What is the average `sqft_living` of the houses grouped by bedrooms? The returned result should have only two columns,\n",
    "# `Bedrooms` and `Average_sqft_living`.\n",
    "\n",
    "be[\"sqft_living\"].mean().to_frame(\"Average sqft_living\").reset_index()\n"
   ]
  },
  {
   "cell_type": "code",
   "execution_count": 14,
   "id": "085ecbd9",
   "metadata": {},
   "outputs": [
    {
     "data": {
      "text/html": [
       "<div>\n",
       "<style scoped>\n",
       "    .dataframe tbody tr th:only-of-type {\n",
       "        vertical-align: middle;\n",
       "    }\n",
       "\n",
       "    .dataframe tbody tr th {\n",
       "        vertical-align: top;\n",
       "    }\n",
       "\n",
       "    .dataframe thead th {\n",
       "        text-align: right;\n",
       "    }\n",
       "</style>\n",
       "<table border=\"1\" class=\"dataframe\">\n",
       "  <thead>\n",
       "    <tr style=\"text-align: right;\">\n",
       "      <th></th>\n",
       "      <th>Average Price</th>\n",
       "    </tr>\n",
       "    <tr>\n",
       "      <th>waterfront</th>\n",
       "      <th></th>\n",
       "    </tr>\n",
       "  </thead>\n",
       "  <tbody>\n",
       "    <tr>\n",
       "      <th>0</th>\n",
       "      <td>5.317623e+05</td>\n",
       "    </tr>\n",
       "    <tr>\n",
       "      <th>1</th>\n",
       "      <td>1.662524e+06</td>\n",
       "    </tr>\n",
       "  </tbody>\n",
       "</table>\n",
       "</div>"
      ],
      "text/plain": [
       "            Average Price\n",
       "waterfront               \n",
       "0            5.317623e+05\n",
       "1            1.662524e+06"
      ]
     },
     "execution_count": 14,
     "metadata": {},
     "output_type": "execute_result"
    }
   ],
   "source": [
    "# 7.3.  What is the average price of the houses with a waterfront and without a waterfront? The returned result should have\n",
    "# only two columns, `Waterfront` and `Average_price`.\n",
    "\n",
    "w=df.groupby(['waterfront'])\n",
    "w[\"price\"].mean().to_frame('Average Price')"
   ]
  },
  {
   "cell_type": "code",
   "execution_count": 15,
   "id": "6806cdfe",
   "metadata": {},
   "outputs": [
    {
     "data": {
      "text/plain": [
       "-0.14689580091008858"
      ]
     },
     "execution_count": 15,
     "metadata": {},
     "output_type": "execute_result"
    }
   ],
   "source": [
    "# 7.4. Is there any correlation between the columns `condition` and `grade`? Also, create a plot to visually check if\n",
    "# there is a positive correlation or negative correlation or no correlation between both variables.\n",
    "\n",
    "df['condition'].corr(df['grade'])\n",
    "\n",
    "# We can see that there is a negative correlation"
   ]
  },
  {
   "cell_type": "code",
   "execution_count": 16,
   "id": "2a28a3d4",
   "metadata": {},
   "outputs": [
    {
     "data": {
      "text/plain": [
       "<AxesSubplot:xlabel='condition', ylabel='grade'>"
      ]
     },
     "execution_count": 16,
     "metadata": {},
     "output_type": "execute_result"
    },
    {
     "data": {
      "image/png": "[encoded data removed]",
      "text/plain": [
       "<Figure size 432x288 with 1 Axes>"
      ]
     },
     "metadata": {
      "needs_background": "light"
     },
     "output_type": "display_data"
    }
   ],
   "source": [
    "# 7.5. Get the number of houses in each category (ie number of houses for a given `condition`)\n",
    "# to assess if that category is well represented in the dataset to include it in your analysis. For eg.\n",
    "# If the category is under-represented as compared to other categories, ignore that category in this analysis\n",
    "\n",
    "col1=df['condition']\n",
    "col2=df['grade']\n",
    "\n",
    "sns.regplot(x=col1, y=col2)"
   ]
  },
  {
   "cell_type": "code",
   "execution_count": 17,
   "id": "ece823fd",
   "metadata": {},
   "outputs": [
    {
     "data": {
      "text/plain": [
       "3    14020\n",
       "4     5677\n",
       "5     1701\n",
       "2      170\n",
       "1       29\n",
       "Name: condition, dtype: int64"
      ]
     },
     "execution_count": 17,
     "metadata": {},
     "output_type": "execute_result"
    }
   ],
   "source": [
    "df['condition'].value_counts()"
   ]
  },
  {
   "cell_type": "code",
   "execution_count": 18,
   "id": "36b2d0ce",
   "metadata": {},
   "outputs": [
    {
     "data": {
      "text/plain": [
       "array([3, 3, 3, ..., 3, 3, 3], dtype=int64)"
      ]
     },
     "execution_count": 18,
     "metadata": {},
     "output_type": "execute_result"
    }
   ],
   "source": [
    "df.condition.values"
   ]
  },
  {
   "cell_type": "code",
   "execution_count": 19,
   "id": "3b94a044",
   "metadata": {},
   "outputs": [
    {
     "data": {
      "text/html": [
       "<div>\n",
       "<style scoped>\n",
       "    .dataframe tbody tr th:only-of-type {\n",
       "        vertical-align: middle;\n",
       "    }\n",
       "\n",
       "    .dataframe tbody tr th {\n",
       "        vertical-align: top;\n",
       "    }\n",
       "\n",
       "    .dataframe thead th {\n",
       "        text-align: right;\n",
       "    }\n",
       "</style>\n",
       "<table border=\"1\" class=\"dataframe\">\n",
       "  <thead>\n",
       "    <tr style=\"text-align: right;\">\n",
       "      <th></th>\n",
       "      <th>id</th>\n",
       "      <th>bedrooms</th>\n",
       "      <th>bathrooms</th>\n",
       "      <th>sqft_living</th>\n",
       "      <th>sqft_lot</th>\n",
       "      <th>floors</th>\n",
       "      <th>waterfront</th>\n",
       "      <th>view</th>\n",
       "      <th>condition</th>\n",
       "      <th>grade</th>\n",
       "      <th>sqft_above</th>\n",
       "      <th>sqft_basement</th>\n",
       "      <th>yr_built</th>\n",
       "      <th>yr_renovated</th>\n",
       "      <th>zipcode</th>\n",
       "      <th>lat</th>\n",
       "      <th>long</th>\n",
       "      <th>sqft_living15</th>\n",
       "      <th>sqft_lot15</th>\n",
       "      <th>price</th>\n",
       "    </tr>\n",
       "  </thead>\n",
       "  <tbody>\n",
       "    <tr>\n",
       "      <th>1924</th>\n",
       "      <td>7316400070</td>\n",
       "      <td>3</td>\n",
       "      <td>3.75</td>\n",
       "      <td>2800</td>\n",
       "      <td>9900</td>\n",
       "      <td>1.0</td>\n",
       "      <td>0</td>\n",
       "      <td>0</td>\n",
       "      <td>3</td>\n",
       "      <td>7</td>\n",
       "      <td>2800</td>\n",
       "      <td>0</td>\n",
       "      <td>1964</td>\n",
       "      <td>0</td>\n",
       "      <td>98023</td>\n",
       "      <td>47.3190</td>\n",
       "      <td>-122.344</td>\n",
       "      <td>1700</td>\n",
       "      <td>13200</td>\n",
       "      <td>255000</td>\n",
       "    </tr>\n",
       "    <tr>\n",
       "      <th>8608</th>\n",
       "      <td>5379801972</td>\n",
       "      <td>3</td>\n",
       "      <td>4.00</td>\n",
       "      <td>1400</td>\n",
       "      <td>8580</td>\n",
       "      <td>1.0</td>\n",
       "      <td>0</td>\n",
       "      <td>0</td>\n",
       "      <td>5</td>\n",
       "      <td>7</td>\n",
       "      <td>900</td>\n",
       "      <td>500</td>\n",
       "      <td>1954</td>\n",
       "      <td>0</td>\n",
       "      <td>98188</td>\n",
       "      <td>47.4560</td>\n",
       "      <td>-122.292</td>\n",
       "      <td>1220</td>\n",
       "      <td>8832</td>\n",
       "      <td>265000</td>\n",
       "    </tr>\n",
       "    <tr>\n",
       "      <th>8905</th>\n",
       "      <td>822059038</td>\n",
       "      <td>3</td>\n",
       "      <td>4.50</td>\n",
       "      <td>2810</td>\n",
       "      <td>11214</td>\n",
       "      <td>1.0</td>\n",
       "      <td>0</td>\n",
       "      <td>0</td>\n",
       "      <td>3</td>\n",
       "      <td>8</td>\n",
       "      <td>2010</td>\n",
       "      <td>800</td>\n",
       "      <td>1958</td>\n",
       "      <td>0</td>\n",
       "      <td>98031</td>\n",
       "      <td>47.4045</td>\n",
       "      <td>-122.197</td>\n",
       "      <td>1940</td>\n",
       "      <td>8349</td>\n",
       "      <td>290000</td>\n",
       "    </tr>\n",
       "  </tbody>\n",
       "</table>\n",
       "</div>"
      ],
      "text/plain": [
       "              id  bedrooms  bathrooms  sqft_living  sqft_lot  floors  \\\n",
       "1924  7316400070         3       3.75         2800      9900     1.0   \n",
       "8608  5379801972         3       4.00         1400      8580     1.0   \n",
       "8905   822059038         3       4.50         2810     11214     1.0   \n",
       "\n",
       "      waterfront  view  condition  grade  sqft_above  sqft_basement  yr_built  \\\n",
       "1924           0     0          3      7        2800              0      1964   \n",
       "8608           0     0          5      7         900            500      1954   \n",
       "8905           0     0          3      8        2010            800      1958   \n",
       "\n",
       "      yr_renovated  zipcode      lat     long  sqft_living15  sqft_lot15  \\\n",
       "1924             0    98023  47.3190 -122.344           1700       13200   \n",
       "8608             0    98188  47.4560 -122.292           1220        8832   \n",
       "8905             0    98031  47.4045 -122.197           1940        8349   \n",
       "\n",
       "       price  \n",
       "1924  255000  \n",
       "8608  265000  \n",
       "8905  290000  "
      ]
     },
     "execution_count": 19,
     "metadata": {},
     "output_type": "execute_result"
    }
   ],
   "source": [
    "# 8. One of the customers is only interested in the following houses:\n",
    "\n",
    "#    - Number of bedrooms either 3 or 4\n",
    "#   - Bathrooms more than 3\n",
    "#    - One Floor\n",
    "#    - No waterfront\n",
    "#    - Condition should be 3 at least\n",
    "#    - Grade should be 5 at least\n",
    "#    - Price smaller than 300000\n",
    "#    For the rest of the things, they are not too concerned. Write code to find what are the houses available for them?\n",
    "\n",
    "habitaciones=df['bedrooms'] = 3 or 4\n",
    "baños=df['bathrooms'] >3\n",
    "pisos=df['floors'] ==1\n",
    "waterfront=df['waterfront'] ==0\n",
    "condition=df['condition'] >=3\n",
    "grade=df['grade'] >=5\n",
    "price=df['price'] < 300000\n",
    "df[habitaciones & baños & pisos & waterfront & condition & grade & price]"
   ]
  },
  {
   "cell_type": "code",
   "execution_count": 20,
   "id": "22f6d6f1",
   "metadata": {},
   "outputs": [
    {
     "data": {
      "text/html": [
       "<div>\n",
       "<style scoped>\n",
       "    .dataframe tbody tr th:only-of-type {\n",
       "        vertical-align: middle;\n",
       "    }\n",
       "\n",
       "    .dataframe tbody tr th {\n",
       "        vertical-align: top;\n",
       "    }\n",
       "\n",
       "    .dataframe thead th {\n",
       "        text-align: right;\n",
       "    }\n",
       "</style>\n",
       "<table border=\"1\" class=\"dataframe\">\n",
       "  <thead>\n",
       "    <tr style=\"text-align: right;\">\n",
       "      <th></th>\n",
       "      <th>id</th>\n",
       "      <th>bedrooms</th>\n",
       "      <th>bathrooms</th>\n",
       "      <th>sqft_living</th>\n",
       "      <th>sqft_lot</th>\n",
       "      <th>floors</th>\n",
       "      <th>waterfront</th>\n",
       "      <th>view</th>\n",
       "      <th>condition</th>\n",
       "      <th>grade</th>\n",
       "      <th>sqft_above</th>\n",
       "      <th>sqft_basement</th>\n",
       "      <th>yr_built</th>\n",
       "      <th>yr_renovated</th>\n",
       "      <th>zipcode</th>\n",
       "      <th>lat</th>\n",
       "      <th>long</th>\n",
       "      <th>sqft_living15</th>\n",
       "      <th>sqft_lot15</th>\n",
       "      <th>price</th>\n",
       "    </tr>\n",
       "  </thead>\n",
       "  <tbody>\n",
       "    <tr>\n",
       "      <th>5</th>\n",
       "      <td>7237550310</td>\n",
       "      <td>3</td>\n",
       "      <td>4.50</td>\n",
       "      <td>5420</td>\n",
       "      <td>101930</td>\n",
       "      <td>1.0</td>\n",
       "      <td>0</td>\n",
       "      <td>0</td>\n",
       "      <td>3</td>\n",
       "      <td>11</td>\n",
       "      <td>3890</td>\n",
       "      <td>1530</td>\n",
       "      <td>2001</td>\n",
       "      <td>0</td>\n",
       "      <td>98053</td>\n",
       "      <td>47.6561</td>\n",
       "      <td>-122.005</td>\n",
       "      <td>4760</td>\n",
       "      <td>101930</td>\n",
       "      <td>1230000</td>\n",
       "    </tr>\n",
       "    <tr>\n",
       "      <th>21</th>\n",
       "      <td>2524049179</td>\n",
       "      <td>3</td>\n",
       "      <td>2.75</td>\n",
       "      <td>3050</td>\n",
       "      <td>44867</td>\n",
       "      <td>1.0</td>\n",
       "      <td>0</td>\n",
       "      <td>4</td>\n",
       "      <td>3</td>\n",
       "      <td>9</td>\n",
       "      <td>2330</td>\n",
       "      <td>720</td>\n",
       "      <td>1968</td>\n",
       "      <td>0</td>\n",
       "      <td>98040</td>\n",
       "      <td>47.5316</td>\n",
       "      <td>-122.233</td>\n",
       "      <td>4110</td>\n",
       "      <td>20336</td>\n",
       "      <td>2000000</td>\n",
       "    </tr>\n",
       "    <tr>\n",
       "      <th>49</th>\n",
       "      <td>822039084</td>\n",
       "      <td>3</td>\n",
       "      <td>2.50</td>\n",
       "      <td>2753</td>\n",
       "      <td>65005</td>\n",
       "      <td>1.0</td>\n",
       "      <td>1</td>\n",
       "      <td>2</td>\n",
       "      <td>5</td>\n",
       "      <td>9</td>\n",
       "      <td>2165</td>\n",
       "      <td>588</td>\n",
       "      <td>1953</td>\n",
       "      <td>0</td>\n",
       "      <td>98070</td>\n",
       "      <td>47.4041</td>\n",
       "      <td>-122.451</td>\n",
       "      <td>2680</td>\n",
       "      <td>72513</td>\n",
       "      <td>1350000</td>\n",
       "    </tr>\n",
       "    <tr>\n",
       "      <th>69</th>\n",
       "      <td>1802000060</td>\n",
       "      <td>3</td>\n",
       "      <td>2.25</td>\n",
       "      <td>3200</td>\n",
       "      <td>20158</td>\n",
       "      <td>1.0</td>\n",
       "      <td>0</td>\n",
       "      <td>0</td>\n",
       "      <td>3</td>\n",
       "      <td>8</td>\n",
       "      <td>1600</td>\n",
       "      <td>1600</td>\n",
       "      <td>1965</td>\n",
       "      <td>0</td>\n",
       "      <td>98004</td>\n",
       "      <td>47.6303</td>\n",
       "      <td>-122.215</td>\n",
       "      <td>3390</td>\n",
       "      <td>20158</td>\n",
       "      <td>1330000</td>\n",
       "    </tr>\n",
       "    <tr>\n",
       "      <th>91</th>\n",
       "      <td>5036300431</td>\n",
       "      <td>3</td>\n",
       "      <td>2.75</td>\n",
       "      <td>3520</td>\n",
       "      <td>6353</td>\n",
       "      <td>2.0</td>\n",
       "      <td>0</td>\n",
       "      <td>0</td>\n",
       "      <td>4</td>\n",
       "      <td>10</td>\n",
       "      <td>3520</td>\n",
       "      <td>0</td>\n",
       "      <td>2001</td>\n",
       "      <td>0</td>\n",
       "      <td>98199</td>\n",
       "      <td>47.6506</td>\n",
       "      <td>-122.391</td>\n",
       "      <td>2520</td>\n",
       "      <td>6250</td>\n",
       "      <td>1100000</td>\n",
       "    </tr>\n",
       "    <tr>\n",
       "      <th>...</th>\n",
       "      <td>...</td>\n",
       "      <td>...</td>\n",
       "      <td>...</td>\n",
       "      <td>...</td>\n",
       "      <td>...</td>\n",
       "      <td>...</td>\n",
       "      <td>...</td>\n",
       "      <td>...</td>\n",
       "      <td>...</td>\n",
       "      <td>...</td>\n",
       "      <td>...</td>\n",
       "      <td>...</td>\n",
       "      <td>...</td>\n",
       "      <td>...</td>\n",
       "      <td>...</td>\n",
       "      <td>...</td>\n",
       "      <td>...</td>\n",
       "      <td>...</td>\n",
       "      <td>...</td>\n",
       "      <td>...</td>\n",
       "    </tr>\n",
       "    <tr>\n",
       "      <th>21560</th>\n",
       "      <td>9253900271</td>\n",
       "      <td>3</td>\n",
       "      <td>4.50</td>\n",
       "      <td>4850</td>\n",
       "      <td>10584</td>\n",
       "      <td>2.0</td>\n",
       "      <td>1</td>\n",
       "      <td>4</td>\n",
       "      <td>3</td>\n",
       "      <td>10</td>\n",
       "      <td>3540</td>\n",
       "      <td>1310</td>\n",
       "      <td>2007</td>\n",
       "      <td>0</td>\n",
       "      <td>98008</td>\n",
       "      <td>47.5943</td>\n",
       "      <td>-122.110</td>\n",
       "      <td>3470</td>\n",
       "      <td>18270</td>\n",
       "      <td>3570000</td>\n",
       "    </tr>\n",
       "    <tr>\n",
       "      <th>21574</th>\n",
       "      <td>7430200100</td>\n",
       "      <td>3</td>\n",
       "      <td>3.50</td>\n",
       "      <td>4910</td>\n",
       "      <td>9444</td>\n",
       "      <td>1.5</td>\n",
       "      <td>0</td>\n",
       "      <td>0</td>\n",
       "      <td>3</td>\n",
       "      <td>11</td>\n",
       "      <td>3110</td>\n",
       "      <td>1800</td>\n",
       "      <td>2007</td>\n",
       "      <td>0</td>\n",
       "      <td>98074</td>\n",
       "      <td>47.6502</td>\n",
       "      <td>-122.066</td>\n",
       "      <td>4560</td>\n",
       "      <td>11063</td>\n",
       "      <td>1220000</td>\n",
       "    </tr>\n",
       "    <tr>\n",
       "      <th>21577</th>\n",
       "      <td>8672200110</td>\n",
       "      <td>3</td>\n",
       "      <td>3.75</td>\n",
       "      <td>4170</td>\n",
       "      <td>8142</td>\n",
       "      <td>2.0</td>\n",
       "      <td>0</td>\n",
       "      <td>2</td>\n",
       "      <td>3</td>\n",
       "      <td>10</td>\n",
       "      <td>4170</td>\n",
       "      <td>0</td>\n",
       "      <td>2006</td>\n",
       "      <td>0</td>\n",
       "      <td>98056</td>\n",
       "      <td>47.5354</td>\n",
       "      <td>-122.181</td>\n",
       "      <td>3030</td>\n",
       "      <td>7980</td>\n",
       "      <td>1090000</td>\n",
       "    </tr>\n",
       "    <tr>\n",
       "      <th>21581</th>\n",
       "      <td>191100405</td>\n",
       "      <td>3</td>\n",
       "      <td>3.25</td>\n",
       "      <td>3410</td>\n",
       "      <td>10125</td>\n",
       "      <td>2.0</td>\n",
       "      <td>0</td>\n",
       "      <td>0</td>\n",
       "      <td>3</td>\n",
       "      <td>10</td>\n",
       "      <td>3410</td>\n",
       "      <td>0</td>\n",
       "      <td>2007</td>\n",
       "      <td>0</td>\n",
       "      <td>98040</td>\n",
       "      <td>47.5653</td>\n",
       "      <td>-122.223</td>\n",
       "      <td>2290</td>\n",
       "      <td>10125</td>\n",
       "      <td>1580000</td>\n",
       "    </tr>\n",
       "    <tr>\n",
       "      <th>21584</th>\n",
       "      <td>249000205</td>\n",
       "      <td>3</td>\n",
       "      <td>3.75</td>\n",
       "      <td>4470</td>\n",
       "      <td>8088</td>\n",
       "      <td>2.0</td>\n",
       "      <td>0</td>\n",
       "      <td>0</td>\n",
       "      <td>3</td>\n",
       "      <td>11</td>\n",
       "      <td>4470</td>\n",
       "      <td>0</td>\n",
       "      <td>2008</td>\n",
       "      <td>0</td>\n",
       "      <td>98004</td>\n",
       "      <td>47.6321</td>\n",
       "      <td>-122.200</td>\n",
       "      <td>2780</td>\n",
       "      <td>8964</td>\n",
       "      <td>1540000</td>\n",
       "    </tr>\n",
       "  </tbody>\n",
       "</table>\n",
       "<p>1246 rows × 20 columns</p>\n",
       "</div>"
      ],
      "text/plain": [
       "               id  bedrooms  bathrooms  sqft_living  sqft_lot  floors  \\\n",
       "5      7237550310         3       4.50         5420    101930     1.0   \n",
       "21     2524049179         3       2.75         3050     44867     1.0   \n",
       "49      822039084         3       2.50         2753     65005     1.0   \n",
       "69     1802000060         3       2.25         3200     20158     1.0   \n",
       "91     5036300431         3       2.75         3520      6353     2.0   \n",
       "...           ...       ...        ...          ...       ...     ...   \n",
       "21560  9253900271         3       4.50         4850     10584     2.0   \n",
       "21574  7430200100         3       3.50         4910      9444     1.5   \n",
       "21577  8672200110         3       3.75         4170      8142     2.0   \n",
       "21581   191100405         3       3.25         3410     10125     2.0   \n",
       "21584   249000205         3       3.75         4470      8088     2.0   \n",
       "\n",
       "       waterfront  view  condition  grade  sqft_above  sqft_basement  \\\n",
       "5               0     0          3     11        3890           1530   \n",
       "21              0     4          3      9        2330            720   \n",
       "49              1     2          5      9        2165            588   \n",
       "69              0     0          3      8        1600           1600   \n",
       "91              0     0          4     10        3520              0   \n",
       "...           ...   ...        ...    ...         ...            ...   \n",
       "21560           1     4          3     10        3540           1310   \n",
       "21574           0     0          3     11        3110           1800   \n",
       "21577           0     2          3     10        4170              0   \n",
       "21581           0     0          3     10        3410              0   \n",
       "21584           0     0          3     11        4470              0   \n",
       "\n",
       "       yr_built  yr_renovated  zipcode      lat     long  sqft_living15  \\\n",
       "5          2001             0    98053  47.6561 -122.005           4760   \n",
       "21         1968             0    98040  47.5316 -122.233           4110   \n",
       "49         1953             0    98070  47.4041 -122.451           2680   \n",
       "69         1965             0    98004  47.6303 -122.215           3390   \n",
       "91         2001             0    98199  47.6506 -122.391           2520   \n",
       "...         ...           ...      ...      ...      ...            ...   \n",
       "21560      2007             0    98008  47.5943 -122.110           3470   \n",
       "21574      2007             0    98074  47.6502 -122.066           4560   \n",
       "21577      2006             0    98056  47.5354 -122.181           3030   \n",
       "21581      2007             0    98040  47.5653 -122.223           2290   \n",
       "21584      2008             0    98004  47.6321 -122.200           2780   \n",
       "\n",
       "       sqft_lot15    price  \n",
       "5          101930  1230000  \n",
       "21          20336  2000000  \n",
       "49          72513  1350000  \n",
       "69          20158  1330000  \n",
       "91           6250  1100000  \n",
       "...           ...      ...  \n",
       "21560       18270  3570000  \n",
       "21574       11063  1220000  \n",
       "21577        7980  1090000  \n",
       "21581       10125  1580000  \n",
       "21584        8964  1540000  \n",
       "\n",
       "[1246 rows x 20 columns]"
      ]
     },
     "execution_count": 20,
     "metadata": {},
     "output_type": "execute_result"
    }
   ],
   "source": [
    "# 9. Your manager wants to find out the list of properties whose prices are twice more than the average of all\n",
    "# the properties in the database. Write code to show them the list of such properties.\n",
    "\n",
    "avg_price=df[\"price\"].mean()\n",
    "desired_price= df[\"price\"] > 2*avg_price\n",
    "df[desired_price]"
   ]
  },
  {
   "cell_type": "code",
   "execution_count": 23,
   "id": "5c093c14",
   "metadata": {},
   "outputs": [],
   "source": [
    "# 10. Most customers are interested in properties with three or four bedrooms. What is the difference in average prices of\n",
    "# the properties with three and four bedrooms? In this case you can simply use a `groupby` to check the prices for those\n",
    "# particular houses.\n",
    "\n",
    "tres = df[\"bedrooms\"] == 3\n",
    "cuatro = df[\"bedrooms\"] == 4\n",
    "precio_tres = df[tres].price.mean()\n",
    "precio_cuatro=df[cuatro].price.mean()\n",
    "\n"
   ]
  },
  {
   "cell_type": "code",
   "execution_count": 24,
   "id": "12346d37",
   "metadata": {},
   "outputs": [
    {
     "ename": "ValueError",
     "evalue": "cannot convert float NaN to integer",
     "output_type": "error",
     "traceback": [
      "\u001b[1;31m---------------------------------------------------------------------------\u001b[0m",
      "\u001b[1;31mValueError\u001b[0m                                Traceback (most recent call last)",
      "\u001b[1;32m~\\AppData\\Local\\Temp/ipykernel_18180/870921223.py\u001b[0m in \u001b[0;36m<module>\u001b[1;34m\u001b[0m\n\u001b[0;32m      1\u001b[0m \u001b[0mdiferencia\u001b[0m \u001b[1;33m=\u001b[0m \u001b[0mprecio_cuatro\u001b[0m \u001b[1;33m-\u001b[0m \u001b[0mprecio_tres\u001b[0m\u001b[1;33m\u001b[0m\u001b[1;33m\u001b[0m\u001b[0m\n\u001b[0;32m      2\u001b[0m \u001b[1;33m\u001b[0m\u001b[0m\n\u001b[1;32m----> 3\u001b[1;33m \u001b[0mprint\u001b[0m\u001b[1;33m(\u001b[0m\u001b[0mint\u001b[0m\u001b[1;33m(\u001b[0m\u001b[0mdiferencia\u001b[0m\u001b[1;33m)\u001b[0m\u001b[1;33m)\u001b[0m\u001b[1;33m\u001b[0m\u001b[1;33m\u001b[0m\u001b[0m\n\u001b[0m",
      "\u001b[1;31mValueError\u001b[0m: cannot convert float NaN to integer"
     ]
    }
   ],
   "source": [
    "diferencia = precio_cuatro - precio_tres\n",
    "\n",
    "print(int(diferencia))"
   ]
  },
  {
   "cell_type": "code",
   "execution_count": 25,
   "id": "f0ae3025",
   "metadata": {},
   "outputs": [
    {
     "data": {
      "text/plain": [
       "nan"
      ]
     },
     "execution_count": 25,
     "metadata": {},
     "output_type": "execute_result"
    }
   ],
   "source": [
    "precio_cuatro"
   ]
  },
  {
   "cell_type": "code",
   "execution_count": 26,
   "id": "790f9374",
   "metadata": {},
   "outputs": [
    {
     "data": {
      "text/plain": [
       "540296.5735055795"
      ]
     },
     "execution_count": 26,
     "metadata": {},
     "output_type": "execute_result"
    }
   ],
   "source": [
    "precio_tres"
   ]
  },
  {
   "cell_type": "code",
   "execution_count": null,
   "id": "916b7f96",
   "metadata": {},
   "outputs": [],
   "source": []
  },
  {
   "cell_type": "code",
   "execution_count": null,
   "id": "5ad6353a",
   "metadata": {},
   "outputs": [],
   "source": [
    "# 11. What are the different locations where properties are available in your database? (distinct zip codes).\n",
    "\n",
    "zip=df.zipcode.unique()\n",
    "print('Unique values in zipcode: ' + str(zip.size))"
   ]
  },
  {
   "cell_type": "code",
   "execution_count": null,
   "id": "be19957e",
   "metadata": {},
   "outputs": [],
   "source": [
    "# 12. Show all the properties that were renovated.\n",
    "\n",
    "renovated=df['yr_renovated'] >0\n",
    "df[renovated]"
   ]
  },
  {
   "cell_type": "code",
   "execution_count": null,
   "id": "c8d0e962",
   "metadata": {},
   "outputs": [],
   "source": [
    "# 13. Provide the details of the property that is the 11th most expensive property in your database.\n",
    "\n",
    "dfordenado = df.sort_values(by=\"price\", ascending=False)\n",
    "dfordenado.iloc[9,:]"
   ]
  },
  {
   "cell_type": "code",
   "execution_count": null,
   "id": "60ff8f56",
   "metadata": {},
   "outputs": [],
   "source": []
  }
 ],
 "metadata": {
  "kernelspec": {
   "display_name": "Python 3 (ipykernel)",
   "language": "python",
   "name": "python3"
  },
  "language_info": {
   "codemirror_mode": {
    "name": "ipython",
    "version": 3
   },
   "file_extension": ".py",
   "mimetype": "text/x-python",
   "name": "python",
   "nbconvert_exporter": "python",
   "pygments_lexer": "ipython3",
   "version": "3.9.7"
  }
 },
 "nbformat": 4,
 "nbformat_minor": 5
}
